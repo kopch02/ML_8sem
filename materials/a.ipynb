{
 "cells": [
  {
   "cell_type": "markdown",
   "metadata": {},
   "source": [
    "1. **Понимание бизнес-цели *(Business Understanding)***\n",
    "\n",
    "Выбран был датасет [Самые прослушиваемые песни Spotify](https://www.kaggle.com/datasets/nelgiriyewithana/top-spotify-songs-2023) \n",
    "\n",
    "В нём довольно много признаков и я решил предсказывать \"danceability_% : Процент, показывающий, насколько песня подходит для танцев\" на их основе\n",
    "\n",
    "Это может быть полезно для музыкально-стриминговых площадок (spotify, яндекс музыка и т.д.) для создания рекомендаций  "
   ]
  },
  {
   "cell_type": "code",
   "execution_count": null,
   "metadata": {},
   "outputs": [],
   "source": []
  }
 ],
 "metadata": {
  "language_info": {
   "name": "python"
  }
 },
 "nbformat": 4,
 "nbformat_minor": 2
}
